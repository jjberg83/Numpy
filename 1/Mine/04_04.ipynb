{
 "cells": [
  {
   "cell_type": "code",
   "execution_count": 1,
   "id": "8bea37f4",
   "metadata": {},
   "outputs": [],
   "source": [
    "import numpy as np"
   ]
  },
  {
   "cell_type": "code",
   "execution_count": 2,
   "id": "89b144bb",
   "metadata": {},
   "outputs": [
    {
     "name": "stdout",
     "output_type": "stream",
     "text": [
      "[1 2 3 1 2 3]\n"
     ]
    }
   ],
   "source": [
    "minArray = np.array([1,2,3,1,2,3])\n",
    "print(minArray)"
   ]
  },
  {
   "cell_type": "code",
   "execution_count": 3,
   "id": "e35bb900",
   "metadata": {},
   "outputs": [
    {
     "name": "stdout",
     "output_type": "stream",
     "text": [
      "[1 2 3]\n"
     ]
    }
   ],
   "source": [
    "print(np.unique(minArray))"
   ]
  },
  {
   "cell_type": "code",
   "execution_count": 5,
   "id": "3266e885",
   "metadata": {},
   "outputs": [
    {
     "name": "stdout",
     "output_type": "stream",
     "text": [
      "[[1 1 2 1]\n",
      " [3 1 2 1]\n",
      " [1 1 2 1]\n",
      " [7 1 1 1]]\n"
     ]
    }
   ],
   "source": [
    "dinArr = np.array([[1,1,2,1],[3,1,2,1],[1,1,2,1],[7,1,1,1]])\n",
    "print(dinArr)"
   ]
  },
  {
   "cell_type": "code",
   "execution_count": 6,
   "id": "a7350e80",
   "metadata": {},
   "outputs": [],
   "source": [
    "# første og tredje rad helt like\n",
    "# andre og fjerde kolonne helt like"
   ]
  },
  {
   "cell_type": "code",
   "execution_count": 13,
   "id": "7954ba86",
   "metadata": {},
   "outputs": [
    {
     "name": "stdout",
     "output_type": "stream",
     "text": [
      "[1 2 3 7]\n"
     ]
    }
   ],
   "source": [
    "print(np.unique(dinArr))"
   ]
  },
  {
   "cell_type": "code",
   "execution_count": 12,
   "id": "5a3afafc",
   "metadata": {},
   "outputs": [
    {
     "name": "stdout",
     "output_type": "stream",
     "text": [
      "[[1 1 2 1]\n",
      " [3 1 2 1]\n",
      " [7 1 1 1]]\n",
      "-----------------\n",
      "[[1 1 2]\n",
      " [1 3 2]\n",
      " [1 1 2]\n",
      " [1 7 1]]\n"
     ]
    }
   ],
   "source": [
    "print(np.unique(dinArr, axis=0))\n",
    "print(\"-----------------\")\n",
    "print(np.unique(dinArr, axis=1))"
   ]
  },
  {
   "cell_type": "code",
   "execution_count": 14,
   "id": "fa5dfa31",
   "metadata": {},
   "outputs": [
    {
     "name": "stdout",
     "output_type": "stream",
     "text": [
      "[[1 1 2 1]\n",
      " [3 1 2 1]\n",
      " [1 1 2 1]\n",
      " [7 1 1 1]]\n"
     ]
    }
   ],
   "source": [
    "print(dinArr)"
   ]
  },
  {
   "cell_type": "code",
   "execution_count": 15,
   "id": "6b0cb4f8",
   "metadata": {},
   "outputs": [
    {
     "data": {
      "text/plain": [
       "(array([1, 2, 3]), array([0, 1, 2]))"
      ]
     },
     "execution_count": 15,
     "metadata": {},
     "output_type": "execute_result"
    }
   ],
   "source": [
    "np.unique(minArray, return_index=True)"
   ]
  },
  {
   "cell_type": "code",
   "execution_count": 16,
   "id": "c0a3f6f3",
   "metadata": {},
   "outputs": [],
   "source": [
    "# gir først en array med unike verdier, så en array med indeksen hvor de forekom første gang"
   ]
  },
  {
   "cell_type": "code",
   "execution_count": 18,
   "id": "d05a4b09",
   "metadata": {},
   "outputs": [
    {
     "data": {
      "text/plain": [
       "(array([1, 2, 3, 7]), array([11,  3,  1,  1]))"
      ]
     },
     "execution_count": 18,
     "metadata": {},
     "output_type": "execute_result"
    }
   ],
   "source": [
    "np.unique(dinArr, return_counts=True)"
   ]
  },
  {
   "cell_type": "code",
   "execution_count": 19,
   "id": "16194e24",
   "metadata": {},
   "outputs": [],
   "source": [
    "# Først arrayen med unike verdier, så antallet verdiene forekommer"
   ]
  },
  {
   "cell_type": "code",
   "execution_count": null,
   "id": "b944492e",
   "metadata": {},
   "outputs": [],
   "source": []
  }
 ],
 "metadata": {
  "kernelspec": {
   "display_name": "Python 3",
   "language": "python",
   "name": "python3"
  },
  "language_info": {
   "codemirror_mode": {
    "name": "ipython",
    "version": 3
   },
   "file_extension": ".py",
   "mimetype": "text/x-python",
   "name": "python",
   "nbconvert_exporter": "python",
   "pygments_lexer": "ipython3",
   "version": "3.8.8"
  }
 },
 "nbformat": 4,
 "nbformat_minor": 5
}
