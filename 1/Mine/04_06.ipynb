{
 "cells": [
  {
   "cell_type": "code",
   "execution_count": 1,
   "id": "8b38ee98",
   "metadata": {},
   "outputs": [],
   "source": [
    "import numpy as np"
   ]
  },
  {
   "cell_type": "code",
   "execution_count": 2,
   "id": "0c46ebc5",
   "metadata": {},
   "outputs": [
    {
     "data": {
      "text/plain": [
       "[10, 1, 9, 2, 8, 3, 7, 4, 6, 5]"
      ]
     },
     "execution_count": 2,
     "metadata": {},
     "output_type": "execute_result"
    }
   ],
   "source": [
    "arr1_dim=[10,1,9,2,8,3,7,4,6,5]\n",
    "arr1_dim"
   ]
  },
  {
   "cell_type": "code",
   "execution_count": 3,
   "id": "e9e26ffc",
   "metadata": {},
   "outputs": [],
   "source": [
    "# reverser arrayen med slicing\n",
    "# generell syntaks er [start:stop:step]\n",
    "# når step er -1, betyr det begynn med slutten\n",
    "# og implisitt betyr det altså, slutt ved begynnelsen"
   ]
  },
  {
   "cell_type": "code",
   "execution_count": 4,
   "id": "f95dc14b",
   "metadata": {},
   "outputs": [
    {
     "data": {
      "text/plain": [
       "[5, 6, 4, 7, 3, 8, 2, 9, 1, 10]"
      ]
     },
     "execution_count": 4,
     "metadata": {},
     "output_type": "execute_result"
    }
   ],
   "source": [
    "arr1_dim[::-1]"
   ]
  },
  {
   "cell_type": "code",
   "execution_count": 5,
   "id": "f8ae07bc",
   "metadata": {},
   "outputs": [
    {
     "data": {
      "text/plain": [
       "array([ 5,  6,  4,  7,  3,  8,  2,  9,  1, 10])"
      ]
     },
     "execution_count": 5,
     "metadata": {},
     "output_type": "execute_result"
    }
   ],
   "source": [
    "np.flip(arr1_dim)"
   ]
  },
  {
   "cell_type": "code",
   "execution_count": 6,
   "id": "fcb09f23",
   "metadata": {},
   "outputs": [
    {
     "data": {
      "text/plain": [
       "array([[0, 1, 2],\n",
       "       [3, 4, 5],\n",
       "       [6, 7, 8]])"
      ]
     },
     "execution_count": 6,
     "metadata": {},
     "output_type": "execute_result"
    }
   ],
   "source": [
    "arr_2dim=np.arange(9).reshape(3,3)\n",
    "arr_2dim"
   ]
  },
  {
   "cell_type": "code",
   "execution_count": 7,
   "id": "d70f8e0e",
   "metadata": {},
   "outputs": [
    {
     "data": {
      "text/plain": [
       "array([[8, 7, 6],\n",
       "       [5, 4, 3],\n",
       "       [2, 1, 0]])"
      ]
     },
     "execution_count": 7,
     "metadata": {},
     "output_type": "execute_result"
    }
   ],
   "source": [
    "np.flip(arr_2dim)"
   ]
  },
  {
   "cell_type": "code",
   "execution_count": 11,
   "id": "6819e059",
   "metadata": {},
   "outputs": [
    {
     "data": {
      "text/plain": [
       "array([[6, 7, 8],\n",
       "       [3, 4, 5],\n",
       "       [0, 1, 2]])"
      ]
     },
     "execution_count": 11,
     "metadata": {},
     "output_type": "execute_result"
    }
   ],
   "source": [
    "np.flip(arr_2dim, 0)"
   ]
  },
  {
   "cell_type": "code",
   "execution_count": 12,
   "id": "00b6bad4",
   "metadata": {},
   "outputs": [],
   "source": [
    "# her flippa man altså colum"
   ]
  },
  {
   "cell_type": "code",
   "execution_count": 13,
   "id": "ef6679f3",
   "metadata": {},
   "outputs": [
    {
     "data": {
      "text/plain": [
       "array([[2, 1, 0],\n",
       "       [5, 4, 3],\n",
       "       [8, 7, 6]])"
      ]
     },
     "execution_count": 13,
     "metadata": {},
     "output_type": "execute_result"
    }
   ],
   "source": [
    "np.flip(arr_2dim, 1) #her flipper man rows"
   ]
  },
  {
   "cell_type": "code",
   "execution_count": 14,
   "id": "cf4a8f4b",
   "metadata": {},
   "outputs": [
    {
     "data": {
      "text/plain": [
       "array([[[ 0,  1,  2,  3],\n",
       "        [ 4,  5,  6,  7],\n",
       "        [ 8,  9, 10, 11]],\n",
       "\n",
       "       [[12, 13, 14, 15],\n",
       "        [16, 17, 18, 19],\n",
       "        [20, 21, 22, 23]]])"
      ]
     },
     "execution_count": 14,
     "metadata": {},
     "output_type": "execute_result"
    }
   ],
   "source": [
    "arr_3dim=np.arange(24).reshape(2,3,4)\n",
    "arr_3dim"
   ]
  },
  {
   "cell_type": "code",
   "execution_count": 15,
   "id": "f4d4077f",
   "metadata": {},
   "outputs": [
    {
     "data": {
      "text/plain": [
       "array([[[12, 13, 14, 15],\n",
       "        [16, 17, 18, 19],\n",
       "        [20, 21, 22, 23]],\n",
       "\n",
       "       [[ 0,  1,  2,  3],\n",
       "        [ 4,  5,  6,  7],\n",
       "        [ 8,  9, 10, 11]]])"
      ]
     },
     "execution_count": 15,
     "metadata": {},
     "output_type": "execute_result"
    }
   ],
   "source": [
    "np.flip(arr_3dim,0)"
   ]
  },
  {
   "cell_type": "code",
   "execution_count": 16,
   "id": "8512d2ee",
   "metadata": {},
   "outputs": [
    {
     "data": {
      "text/plain": [
       "array([[[ 8,  9, 10, 11],\n",
       "        [ 4,  5,  6,  7],\n",
       "        [ 0,  1,  2,  3]],\n",
       "\n",
       "       [[20, 21, 22, 23],\n",
       "        [16, 17, 18, 19],\n",
       "        [12, 13, 14, 15]]])"
      ]
     },
     "execution_count": 16,
     "metadata": {},
     "output_type": "execute_result"
    }
   ],
   "source": [
    "np.flip(arr_3dim,1)"
   ]
  },
  {
   "cell_type": "code",
   "execution_count": 17,
   "id": "b2603d8e",
   "metadata": {},
   "outputs": [
    {
     "data": {
      "text/plain": [
       "array([[[ 3,  2,  1,  0],\n",
       "        [ 7,  6,  5,  4],\n",
       "        [11, 10,  9,  8]],\n",
       "\n",
       "       [[15, 14, 13, 12],\n",
       "        [19, 18, 17, 16],\n",
       "        [23, 22, 21, 20]]])"
      ]
     },
     "execution_count": 17,
     "metadata": {},
     "output_type": "execute_result"
    }
   ],
   "source": [
    "np.flip(arr_3dim, 2)"
   ]
  },
  {
   "cell_type": "code",
   "execution_count": null,
   "id": "322c79f8",
   "metadata": {},
   "outputs": [],
   "source": []
  }
 ],
 "metadata": {
  "kernelspec": {
   "display_name": "Python 3",
   "language": "python",
   "name": "python3"
  },
  "language_info": {
   "codemirror_mode": {
    "name": "ipython",
    "version": 3
   },
   "file_extension": ".py",
   "mimetype": "text/x-python",
   "name": "python",
   "nbconvert_exporter": "python",
   "pygments_lexer": "ipython3",
   "version": "3.8.8"
  }
 },
 "nbformat": 4,
 "nbformat_minor": 5
}
