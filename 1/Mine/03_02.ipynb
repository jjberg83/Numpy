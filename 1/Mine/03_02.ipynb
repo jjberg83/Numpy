{
 "cells": [
  {
   "cell_type": "code",
   "execution_count": 1,
   "id": "6308b6f6",
   "metadata": {},
   "outputs": [],
   "source": [
    "import numpy as np"
   ]
  },
  {
   "cell_type": "code",
   "execution_count": 2,
   "id": "7f2f8396",
   "metadata": {},
   "outputs": [
    {
     "data": {
      "text/plain": [
       "array([1111, 1212, 1313, 1414, 1515, 1616, 1717, 1818])"
      ]
     },
     "execution_count": 2,
     "metadata": {},
     "output_type": "execute_result"
    }
   ],
   "source": [
    "students_ids_number = np.array([1111, 1212, 1313, 1414, 1515, 1616, 1717, 1818])\n",
    "students_ids_number"
   ]
  },
  {
   "cell_type": "code",
   "execution_count": 7,
   "id": "83488ae2",
   "metadata": {},
   "outputs": [
    {
     "name": "stdout",
     "output_type": "stream",
     "text": [
      "id of students_ids_number is 140266258351472\n",
      "id of students_ids_number_reg is 140266258351472\n"
     ]
    }
   ],
   "source": [
    "students_ids_number_reg = students_ids_number\n",
    "print(f\"id of students_ids_number is {id(students_ids_number)}\")\n",
    "print(f\"id of students_ids_number_reg is {id(students_ids_number_reg)}\")"
   ]
  },
  {
   "cell_type": "code",
   "execution_count": 8,
   "id": "801643d4",
   "metadata": {},
   "outputs": [],
   "source": [
    "# Vi ser ovenfor at de har samme adresse i minne.\n",
    "# Forandre vi en, forandrer vi den andre."
   ]
  },
  {
   "cell_type": "code",
   "execution_count": 9,
   "id": "57dbccdb",
   "metadata": {},
   "outputs": [
    {
     "name": "stdout",
     "output_type": "stream",
     "text": [
      "[1111 2222 1313 1414 1515 1616 1717 1818]\n",
      "[1111 2222 1313 1414 1515 1616 1717 1818]\n"
     ]
    }
   ],
   "source": [
    "students_ids_number_reg[1] = 2222\n",
    "print(students_ids_number)\n",
    "print(students_ids_number_reg)"
   ]
  },
  {
   "cell_type": "code",
   "execution_count": 10,
   "id": "d43b562e",
   "metadata": {},
   "outputs": [
    {
     "name": "stdout",
     "output_type": "stream",
     "text": [
      "[ True  True  True  True  True  True  True  True]\n"
     ]
    }
   ],
   "source": [
    "print(students_ids_number == students_ids_number_reg)"
   ]
  },
  {
   "cell_type": "code",
   "execution_count": 11,
   "id": "0898e1f1",
   "metadata": {},
   "outputs": [
    {
     "name": "stdout",
     "output_type": "stream",
     "text": [
      "140266258351472 students_ids_number\n",
      "140266267484784 students_ids_number_cp\n"
     ]
    }
   ],
   "source": [
    "students_ids_number_cp = students_ids_number.copy()\n",
    "print(id(students_ids_number), \"students_ids_number\")\n",
    "print(id(students_ids_number_cp), \"students_ids_number_cp\")"
   ]
  },
  {
   "cell_type": "code",
   "execution_count": 12,
   "id": "2902dd56",
   "metadata": {},
   "outputs": [],
   "source": [
    "# Siden de har forskjellige adresser, vil ikke endring i en av dem\n",
    "# reflekteres i den andre"
   ]
  },
  {
   "cell_type": "code",
   "execution_count": 13,
   "id": "aede2373",
   "metadata": {},
   "outputs": [
    {
     "name": "stdout",
     "output_type": "stream",
     "text": [
      "Original: [1000 2222 1313 1414 1515 1616 1717 1818]\n",
      "Copy: [1111 2222 1313 1414 1515 1616 1717 1818]\n"
     ]
    }
   ],
   "source": [
    "students_ids_number[0] = 1000\n",
    "print(f\"Original: {students_ids_number}\")\n",
    "print(f\"Copy: {students_ids_number_cp}\")"
   ]
  },
  {
   "cell_type": "code",
   "execution_count": 14,
   "id": "ec42affe",
   "metadata": {},
   "outputs": [],
   "source": [
    "############################\n",
    "#     VIEWS                #\n",
    "############################"
   ]
  },
  {
   "cell_type": "code",
   "execution_count": 15,
   "id": "cfcfb017",
   "metadata": {},
   "outputs": [],
   "source": [
    "students_ids_number_view = students_ids_number.view()"
   ]
  },
  {
   "cell_type": "code",
   "execution_count": 17,
   "id": "2818582d",
   "metadata": {},
   "outputs": [
    {
     "name": "stdout",
     "output_type": "stream",
     "text": [
      "original:  [2000 2222 1313 1414 1515 1616 1717 1010]\n",
      "view:  [2000 2222 1313 1414 1515 1616 1717 1010]\n"
     ]
    }
   ],
   "source": [
    "students_ids_number[7] = 1010\n",
    "students_ids_number_view[0] = 2000\n",
    "print(\"original: \", students_ids_number)\n",
    "print(\"view: \", students_ids_number)"
   ]
  },
  {
   "cell_type": "code",
   "execution_count": 19,
   "id": "2cca8287",
   "metadata": {},
   "outputs": [],
   "source": [
    "# Vi ser de påvirker hverandre\n",
    "# Underlig nok har de ikke samme adresse\n",
    "# Men gir mening at det er anderledes enn en assignment\n",
    "# En view har påvirkning mellom original og klone, men deler likevel ikke adresse"
   ]
  },
  {
   "cell_type": "code",
   "execution_count": 20,
   "id": "ea4dc815",
   "metadata": {},
   "outputs": [
    {
     "name": "stdout",
     "output_type": "stream",
     "text": [
      "140266258351472 students_ids_number\n",
      "140266267484784 students_ids_number_view\n"
     ]
    }
   ],
   "source": [
    "print(id(students_ids_number), \"students_ids_number\")\n",
    "print(id(students_ids_number_cp), \"students_ids_number_view\")"
   ]
  },
  {
   "cell_type": "code",
   "execution_count": 21,
   "id": "da7bdda3",
   "metadata": {},
   "outputs": [],
   "source": [
    "############################\n",
    "#     BASE                #\n",
    "############################"
   ]
  },
  {
   "cell_type": "code",
   "execution_count": 22,
   "id": "c596cc5c",
   "metadata": {},
   "outputs": [],
   "source": [
    "# Hvis base returnerer None, sier vi at arrayen er eieren av dataen"
   ]
  },
  {
   "cell_type": "code",
   "execution_count": 25,
   "id": "88e44204",
   "metadata": {},
   "outputs": [
    {
     "name": "stdout",
     "output_type": "stream",
     "text": [
      "students_ids_number.base -> None\n",
      "students_ids_number_reg.base -> None\n",
      "students_ids_number_cp.base -> None\n",
      "students_ids_number_view.base -> [2000 2222 1313 1414 1515 1616 1717 1010]\n"
     ]
    }
   ],
   "source": [
    "print(\"students_ids_number.base ->\", students_ids_number.base)\n",
    "print(\"students_ids_number_reg.base ->\", students_ids_number_reg.base)\n",
    "print(\"students_ids_number_cp.base ->\", students_ids_number_cp.base)\n",
    "print(\"students_ids_number_view.base ->\", students_ids_number_view.base)"
   ]
  }
 ],
 "metadata": {
  "kernelspec": {
   "display_name": "Python 3",
   "language": "python",
   "name": "python3"
  },
  "language_info": {
   "codemirror_mode": {
    "name": "ipython",
    "version": 3
   },
   "file_extension": ".py",
   "mimetype": "text/x-python",
   "name": "python",
   "nbconvert_exporter": "python",
   "pygments_lexer": "ipython3",
   "version": "3.8.8"
  }
 },
 "nbformat": 4,
 "nbformat_minor": 5
}
