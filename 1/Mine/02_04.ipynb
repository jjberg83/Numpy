{
 "cells": [
  {
   "cell_type": "markdown",
   "id": "4ced9905",
   "metadata": {},
   "source": [
    "### Intrinsic Numpy array creation"
   ]
  },
  {
   "cell_type": "code",
   "execution_count": 2,
   "id": "0fba3fd9",
   "metadata": {},
   "outputs": [],
   "source": [
    "import numpy as np"
   ]
  },
  {
   "cell_type": "code",
   "execution_count": 3,
   "id": "37b17e50",
   "metadata": {},
   "outputs": [],
   "source": [
    "integersArray = np.arange(10)"
   ]
  },
  {
   "cell_type": "code",
   "execution_count": 4,
   "id": "89e50d20",
   "metadata": {},
   "outputs": [
    {
     "data": {
      "text/plain": [
       "array([0, 1, 2, 3, 4, 5, 6, 7, 8, 9])"
      ]
     },
     "execution_count": 4,
     "metadata": {},
     "output_type": "execute_result"
    }
   ],
   "source": [
    "integersArray"
   ]
  },
  {
   "cell_type": "code",
   "execution_count": 5,
   "id": "20ba0bcd",
   "metadata": {},
   "outputs": [],
   "source": [
    "fra100Til129 = np.arange(100,130)"
   ]
  },
  {
   "cell_type": "code",
   "execution_count": 6,
   "id": "33375b87",
   "metadata": {},
   "outputs": [
    {
     "data": {
      "text/plain": [
       "array([100, 101, 102, 103, 104, 105, 106, 107, 108, 109, 110, 111, 112,\n",
       "       113, 114, 115, 116, 117, 118, 119, 120, 121, 122, 123, 124, 125,\n",
       "       126, 127, 128, 129])"
      ]
     },
     "execution_count": 6,
     "metadata": {},
     "output_type": "execute_result"
    }
   ],
   "source": [
    "fra100Til129"
   ]
  },
  {
   "cell_type": "code",
   "execution_count": 7,
   "id": "b503d71b",
   "metadata": {},
   "outputs": [],
   "source": [
    "evenSteven = np.arange(100,150,2)"
   ]
  },
  {
   "cell_type": "code",
   "execution_count": 8,
   "id": "42277357",
   "metadata": {},
   "outputs": [
    {
     "data": {
      "text/plain": [
       "array([100, 102, 104, 106, 108, 110, 112, 114, 116, 118, 120, 122, 124,\n",
       "       126, 128, 130, 132, 134, 136, 138, 140, 142, 144, 146, 148])"
      ]
     },
     "execution_count": 8,
     "metadata": {},
     "output_type": "execute_result"
    }
   ],
   "source": [
    "evenSteven"
   ]
  },
  {
   "cell_type": "code",
   "execution_count": 9,
   "id": "e3097697",
   "metadata": {},
   "outputs": [],
   "source": [
    "first_floats_arr = np.linspace(10,20)"
   ]
  },
  {
   "cell_type": "code",
   "execution_count": 10,
   "id": "254fb4f9",
   "metadata": {},
   "outputs": [
    {
     "data": {
      "text/plain": [
       "array([10.        , 10.20408163, 10.40816327, 10.6122449 , 10.81632653,\n",
       "       11.02040816, 11.2244898 , 11.42857143, 11.63265306, 11.83673469,\n",
       "       12.04081633, 12.24489796, 12.44897959, 12.65306122, 12.85714286,\n",
       "       13.06122449, 13.26530612, 13.46938776, 13.67346939, 13.87755102,\n",
       "       14.08163265, 14.28571429, 14.48979592, 14.69387755, 14.89795918,\n",
       "       15.10204082, 15.30612245, 15.51020408, 15.71428571, 15.91836735,\n",
       "       16.12244898, 16.32653061, 16.53061224, 16.73469388, 16.93877551,\n",
       "       17.14285714, 17.34693878, 17.55102041, 17.75510204, 17.95918367,\n",
       "       18.16326531, 18.36734694, 18.57142857, 18.7755102 , 18.97959184,\n",
       "       19.18367347, 19.3877551 , 19.59183673, 19.79591837, 20.        ])"
      ]
     },
     "execution_count": 10,
     "metadata": {},
     "output_type": "execute_result"
    }
   ],
   "source": [
    "first_floats_arr"
   ]
  },
  {
   "cell_type": "code",
   "execution_count": 11,
   "id": "e169b9c7",
   "metadata": {},
   "outputs": [],
   "source": [
    "# slenger vi inn et tredje argument i linspace sier \n",
    "# det hvor mange samples vi vil ha (default er 50)"
   ]
  },
  {
   "cell_type": "code",
   "execution_count": 12,
   "id": "15358192",
   "metadata": {},
   "outputs": [],
   "source": [
    "second_floats_arr = np.linspace(10,20,5)"
   ]
  },
  {
   "cell_type": "code",
   "execution_count": 13,
   "id": "00ec1d8a",
   "metadata": {},
   "outputs": [
    {
     "data": {
      "text/plain": [
       "array([10. , 12.5, 15. , 17.5, 20. ])"
      ]
     },
     "execution_count": 13,
     "metadata": {},
     "output_type": "execute_result"
    }
   ],
   "source": [
    "second_floats_arr"
   ]
  },
  {
   "cell_type": "code",
   "execution_count": 14,
   "id": "5d38b262",
   "metadata": {},
   "outputs": [],
   "source": [
    "first_random_arr = np.random.rand(10)"
   ]
  },
  {
   "cell_type": "code",
   "execution_count": 15,
   "id": "1c3df45f",
   "metadata": {},
   "outputs": [
    {
     "data": {
      "text/plain": [
       "array([0.72202327, 0.66280545, 0.44841446, 0.54991863, 0.32675201,\n",
       "       0.94904462, 0.16452298, 0.9478512 , 0.47979582, 0.05144713])"
      ]
     },
     "execution_count": 15,
     "metadata": {},
     "output_type": "execute_result"
    }
   ],
   "source": [
    "first_random_arr"
   ]
  },
  {
   "cell_type": "code",
   "execution_count": 16,
   "id": "0f6db38e",
   "metadata": {},
   "outputs": [],
   "source": [
    "multidimensional_random_arr = np.random.rand(3,5)"
   ]
  },
  {
   "cell_type": "code",
   "execution_count": 17,
   "id": "fe0826ca",
   "metadata": {},
   "outputs": [
    {
     "data": {
      "text/plain": [
       "array([[0.82117024, 0.78571463, 0.16501665, 0.54798171, 0.59076831],\n",
       "       [0.48608965, 0.09241928, 0.95219708, 0.1621771 , 0.81697282],\n",
       "       [0.52013685, 0.43396696, 0.24280948, 0.57201927, 0.57316474]])"
      ]
     },
     "execution_count": 17,
     "metadata": {},
     "output_type": "execute_result"
    }
   ],
   "source": [
    "multidimensional_random_arr"
   ]
  },
  {
   "cell_type": "code",
   "execution_count": 19,
   "id": "9c6f5acc",
   "metadata": {},
   "outputs": [],
   "source": [
    "random_integers = np.random.randint(14,40,8)"
   ]
  },
  {
   "cell_type": "code",
   "execution_count": 20,
   "id": "581db85e",
   "metadata": {},
   "outputs": [
    {
     "data": {
      "text/plain": [
       "array([20, 35, 21, 19, 22, 33, 25, 18])"
      ]
     },
     "execution_count": 20,
     "metadata": {},
     "output_type": "execute_result"
    }
   ],
   "source": [
    "random_integers"
   ]
  },
  {
   "cell_type": "code",
   "execution_count": null,
   "id": "dbd3dcf0",
   "metadata": {},
   "outputs": [],
   "source": []
  }
 ],
 "metadata": {
  "kernelspec": {
   "display_name": "Python 3",
   "language": "python",
   "name": "python3"
  },
  "language_info": {
   "codemirror_mode": {
    "name": "ipython",
    "version": 3
   },
   "file_extension": ".py",
   "mimetype": "text/x-python",
   "name": "python",
   "nbconvert_exporter": "python",
   "pygments_lexer": "ipython3",
   "version": "3.8.8"
  }
 },
 "nbformat": 4,
 "nbformat_minor": 5
}
