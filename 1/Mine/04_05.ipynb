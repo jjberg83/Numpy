{
 "cells": [
  {
   "cell_type": "code",
   "execution_count": 1,
   "id": "91bf594f",
   "metadata": {},
   "outputs": [],
   "source": [
    "import numpy as np"
   ]
  },
  {
   "cell_type": "code",
   "execution_count": 2,
   "id": "31eb2d01",
   "metadata": {},
   "outputs": [
    {
     "name": "stdout",
     "output_type": "stream",
     "text": [
      "[[ 0  1  2  3]\n",
      " [ 4  5  6  7]\n",
      " [ 8  9 10 11]]\n"
     ]
    }
   ],
   "source": [
    "first_2dimarr = np.arange(12).reshape((3,4))\n",
    "print(first_2dimarr)"
   ]
  },
  {
   "cell_type": "code",
   "execution_count": 3,
   "id": "e1025905",
   "metadata": {},
   "outputs": [
    {
     "name": "stdout",
     "output_type": "stream",
     "text": [
      "[[ 0  4  8]\n",
      " [ 1  5  9]\n",
      " [ 2  6 10]\n",
      " [ 3  7 11]]\n"
     ]
    }
   ],
   "source": [
    "transposed = np.transpose(first_2dimarr)\n",
    "print(transposed)"
   ]
  },
  {
   "cell_type": "code",
   "execution_count": 4,
   "id": "a0f2b35a",
   "metadata": {},
   "outputs": [
    {
     "name": "stdout",
     "output_type": "stream",
     "text": [
      "[[0 1]\n",
      " [2 3]\n",
      " [4 5]]\n"
     ]
    }
   ],
   "source": [
    "second_2dimarr = np.arange(6).reshape(3,2)\n",
    "print(second_2dimarr)"
   ]
  },
  {
   "cell_type": "code",
   "execution_count": 18,
   "id": "1e3b5076",
   "metadata": {},
   "outputs": [
    {
     "name": "stdout",
     "output_type": "stream",
     "text": [
      "[[0 2 4]\n",
      " [1 3 5]]\n",
      "-------------\n",
      "[[0 1]\n",
      " [2 3]\n",
      " [4 5]]\n",
      "(3, 2)\n"
     ]
    }
   ],
   "source": [
    "transposed = np.transpose(second_2dimarr)\n",
    "print(transposed)\n",
    "print(\"-------------\")\n",
    "print(second_2dimarr)\n",
    "print(second_2dimarr.shape)"
   ]
  },
  {
   "cell_type": "code",
   "execution_count": 7,
   "id": "5352a175",
   "metadata": {},
   "outputs": [
    {
     "name": "stdout",
     "output_type": "stream",
     "text": [
      "[[0 2 4]\n",
      " [1 3 5]]\n"
     ]
    }
   ],
   "source": [
    "transposed = np.transpose(second_2dimarr,(1,0))\n",
    "print(transposed)"
   ]
  },
  {
   "cell_type": "code",
   "execution_count": 14,
   "id": "46532bff",
   "metadata": {},
   "outputs": [
    {
     "name": "stdout",
     "output_type": "stream",
     "text": [
      "[[[ 0  1  2  3]\n",
      "  [ 4  5  6  7]\n",
      "  [ 8  9 10 11]]\n",
      "\n",
      " [[12 13 14 15]\n",
      "  [16 17 18 19]\n",
      "  [20 21 22 23]]]\n",
      "shape: (2, 3, 4)\n"
     ]
    }
   ],
   "source": [
    "first_3dimarr = np.arange(24).reshape(2,3,4)\n",
    "print(first_3dimarr)\n",
    "print(\"shape:\", first_3dimarr.shape)"
   ]
  },
  {
   "cell_type": "code",
   "execution_count": 15,
   "id": "c3f3e6c5",
   "metadata": {},
   "outputs": [
    {
     "name": "stdout",
     "output_type": "stream",
     "text": [
      "[[[ 0 12]\n",
      "  [ 1 13]\n",
      "  [ 2 14]\n",
      "  [ 3 15]]\n",
      "\n",
      " [[ 4 16]\n",
      "  [ 5 17]\n",
      "  [ 6 18]\n",
      "  [ 7 19]]\n",
      "\n",
      " [[ 8 20]\n",
      "  [ 9 21]\n",
      "  [10 22]\n",
      "  [11 23]]]\n",
      "shape: (3, 4, 2)\n"
     ]
    }
   ],
   "source": [
    "axisFirst = np.moveaxis(first_3dimarr, 0 , -1)\n",
    "print(axisFirst)\n",
    "print(\"shape:\",axisFirst.shape)"
   ]
  },
  {
   "cell_type": "code",
   "execution_count": 16,
   "id": "633e20c9",
   "metadata": {},
   "outputs": [
    {
     "name": "stdout",
     "output_type": "stream",
     "text": [
      "[[[ 0  4  8]\n",
      "  [ 1  5  9]\n",
      "  [ 2  6 10]\n",
      "  [ 3  7 11]]\n",
      "\n",
      " [[12 16 20]\n",
      "  [13 17 21]\n",
      "  [14 18 22]\n",
      "  [15 19 23]]]\n",
      "shape: (2, 4, 3)\n"
     ]
    }
   ],
   "source": [
    "axisSecond = np.moveaxis(first_3dimarr, 1,-1)\n",
    "print(axisSecond)\n",
    "print(\"shape:\", axisSecond.shape)"
   ]
  },
  {
   "cell_type": "code",
   "execution_count": null,
   "id": "d47fa2ca",
   "metadata": {},
   "outputs": [],
   "source": []
  }
 ],
 "metadata": {
  "kernelspec": {
   "display_name": "Python 3",
   "language": "python",
   "name": "python3"
  },
  "language_info": {
   "codemirror_mode": {
    "name": "ipython",
    "version": 3
   },
   "file_extension": ".py",
   "mimetype": "text/x-python",
   "name": "python",
   "nbconvert_exporter": "python",
   "pygments_lexer": "ipython3",
   "version": "3.8.8"
  }
 },
 "nbformat": 4,
 "nbformat_minor": 5
}
