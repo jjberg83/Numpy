{
 "cells": [
  {
   "cell_type": "code",
   "execution_count": 1,
   "id": "96b3398b",
   "metadata": {},
   "outputs": [],
   "source": [
    "import numpy as np"
   ]
  },
  {
   "cell_type": "code",
   "execution_count": 5,
   "id": "363688d0",
   "metadata": {},
   "outputs": [
    {
     "data": {
      "text/plain": [
       "array([1, 2, 3, 5])"
      ]
     },
     "execution_count": 5,
     "metadata": {},
     "output_type": "execute_result"
    }
   ],
   "source": [
    "firstArr = np.array([1,2,3,5])\n",
    "firstArr"
   ]
  },
  {
   "cell_type": "code",
   "execution_count": 21,
   "id": "6a43084e",
   "metadata": {},
   "outputs": [
    {
     "data": {
      "text/plain": [
       "array([1, 2, 3, 4, 5])"
      ]
     },
     "execution_count": 21,
     "metadata": {},
     "output_type": "execute_result"
    }
   ],
   "source": [
    "anotherArr = np.insert(firstArr, 3, 4)\n",
    "anotherArr"
   ]
  },
  {
   "cell_type": "code",
   "execution_count": 25,
   "id": "45481855",
   "metadata": {},
   "outputs": [
    {
     "data": {
      "text/plain": [
       "array([1, 2, 3, 4, 5, 6])"
      ]
     },
     "execution_count": 25,
     "metadata": {},
     "output_type": "execute_result"
    }
   ],
   "source": [
    "appendArr = np.append(anotherArr, 6)\n",
    "appendArr"
   ]
  },
  {
   "cell_type": "code",
   "execution_count": 29,
   "id": "70f4abe1",
   "metadata": {},
   "outputs": [
    {
     "data": {
      "text/plain": [
       "array([1, 2, 4, 5, 6])"
      ]
     },
     "execution_count": 29,
     "metadata": {},
     "output_type": "execute_result"
    }
   ],
   "source": [
    "delArr = np.delete(appendArr, 2)\n",
    "delArr"
   ]
  },
  {
   "cell_type": "code",
   "execution_count": 30,
   "id": "71039115",
   "metadata": {},
   "outputs": [
    {
     "data": {
      "text/plain": [
       "array([ 8, 19, 13, 12, 10,  2,  0,  0,  0,  1,  4,  8,  6, 17,  2,  7, 14,\n",
       "       11, 15,  4])"
      ]
     },
     "execution_count": 30,
     "metadata": {},
     "output_type": "execute_result"
    }
   ],
   "source": [
    "unsorted = np.random.randint(0,20,20)\n",
    "unsorted"
   ]
  },
  {
   "cell_type": "code",
   "execution_count": 32,
   "id": "8a01035b",
   "metadata": {},
   "outputs": [
    {
     "name": "stdout",
     "output_type": "stream",
     "text": [
      "[ 0  0  0  1  2  2  4  4  6  7  8  8 10 11 12 13 14 15 17 19]\n"
     ]
    }
   ],
   "source": [
    "sorted = np.sort(unsorted)\n",
    "print(sorted)"
   ]
  },
  {
   "cell_type": "code",
   "execution_count": 33,
   "id": "46a350ad",
   "metadata": {},
   "outputs": [
    {
     "data": {
      "text/plain": [
       "array([[ 5,  3,  6,  2,  1],\n",
       "       [ 6,  7,  3, 56,  1]])"
      ]
     },
     "execution_count": 33,
     "metadata": {},
     "output_type": "execute_result"
    }
   ],
   "source": [
    "unsorted_2D = np.array([[5,3,6,2,1],[6,7,3,56,1]])\n",
    "unsorted_2D"
   ]
  },
  {
   "cell_type": "code",
   "execution_count": 34,
   "id": "4365ebdf",
   "metadata": {},
   "outputs": [
    {
     "name": "stdout",
     "output_type": "stream",
     "text": [
      "[[ 1  2  3  5  6]\n",
      " [ 1  3  6  7 56]]\n"
     ]
    }
   ],
   "source": [
    "print(np.sort(unsorted_2D))"
   ]
  },
  {
   "cell_type": "code",
   "execution_count": null,
   "id": "094d8b7c",
   "metadata": {},
   "outputs": [],
   "source": [
    "farger = np.array([\"rød\", \"gul\", \"grønn\", \"blå\", \"lilla\", \"rosa\", \"brun\", \"svart\", \"hvit\"])"
   ]
  }
 ],
 "metadata": {
  "kernelspec": {
   "display_name": "Python 3",
   "language": "python",
   "name": "python3"
  },
  "language_info": {
   "codemirror_mode": {
    "name": "ipython",
    "version": 3
   },
   "file_extension": ".py",
   "mimetype": "text/x-python",
   "name": "python",
   "nbconvert_exporter": "python",
   "pygments_lexer": "ipython3",
   "version": "3.8.8"
  }
 },
 "nbformat": 4,
 "nbformat_minor": 5
}
