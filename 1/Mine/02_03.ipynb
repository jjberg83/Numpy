{
 "cells": [
  {
   "cell_type": "markdown",
<<<<<<< HEAD
   "id": "4cbcc2c2",
=======
   "id": "91830ab8",
>>>>>>> d32a2a1d69da19728446383e2d558f60aeed3469
   "metadata": {},
   "source": [
    "### Creating arrays from Lists and other Python structures"
   ]
  },
  {
   "cell_type": "code",
   "execution_count": 1,
<<<<<<< HEAD
   "id": "bc8ebebd",
=======
   "id": "ced967ee",
>>>>>>> d32a2a1d69da19728446383e2d558f60aeed3469
   "metadata": {},
   "outputs": [],
   "source": [
    "import numpy as np"
   ]
  },
  {
   "cell_type": "code",
   "execution_count": 3,
<<<<<<< HEAD
   "id": "2d51804c",
=======
   "id": "92b785a4",
>>>>>>> d32a2a1d69da19728446383e2d558f60aeed3469
   "metadata": {},
   "outputs": [],
   "source": [
    "first_list = [1,2,3,4,5,6,7,8,9,10]"
   ]
  },
  {
   "cell_type": "code",
   "execution_count": 4,
<<<<<<< HEAD
   "id": "501b04ac",
=======
   "id": "95403036",
>>>>>>> d32a2a1d69da19728446383e2d558f60aeed3469
   "metadata": {},
   "outputs": [
    {
     "data": {
      "text/plain": [
       "[1, 2, 3, 4, 5, 6, 7, 8, 9, 10]"
      ]
     },
     "execution_count": 4,
     "metadata": {},
     "output_type": "execute_result"
    }
   ],
   "source": [
    "first_list"
   ]
  },
  {
   "cell_type": "code",
   "execution_count": 5,
<<<<<<< HEAD
   "id": "07141446",
=======
   "id": "1a1cba43",
>>>>>>> d32a2a1d69da19728446383e2d558f60aeed3469
   "metadata": {},
   "outputs": [],
   "source": [
    "first_array = np.array(first_list)"
   ]
  },
  {
   "cell_type": "code",
   "execution_count": 6,
<<<<<<< HEAD
   "id": "ec25066c",
=======
   "id": "1a59b35b",
>>>>>>> d32a2a1d69da19728446383e2d558f60aeed3469
   "metadata": {},
   "outputs": [
    {
     "data": {
      "text/plain": [
       "array([ 1,  2,  3,  4,  5,  6,  7,  8,  9, 10])"
      ]
     },
     "execution_count": 6,
     "metadata": {},
     "output_type": "execute_result"
    }
   ],
   "source": [
    "first_array"
   ]
  },
  {
   "cell_type": "code",
   "execution_count": 8,
<<<<<<< HEAD
   "id": "d7d0725a",
=======
   "id": "65f53792",
>>>>>>> d32a2a1d69da19728446383e2d558f60aeed3469
   "metadata": {},
   "outputs": [],
   "source": [
    "second_list = [1, 2, 3, -1.23, 50, 128000.56, 4.56]"
   ]
  },
  {
   "cell_type": "code",
   "execution_count": 9,
<<<<<<< HEAD
   "id": "6e491941",
=======
   "id": "8ad1832d",
>>>>>>> d32a2a1d69da19728446383e2d558f60aeed3469
   "metadata": {},
   "outputs": [],
   "source": [
    "second_array = np.array(second_list)"
   ]
  },
  {
   "cell_type": "code",
   "execution_count": 10,
<<<<<<< HEAD
   "id": "acf7baef",
=======
   "id": "60a18a8f",
>>>>>>> d32a2a1d69da19728446383e2d558f60aeed3469
   "metadata": {},
   "outputs": [
    {
     "data": {
      "text/plain": [
       "array([ 1.0000000e+00,  2.0000000e+00,  3.0000000e+00, -1.2300000e+00,\n",
       "        5.0000000e+01,  1.2800056e+05,  4.5600000e+00])"
      ]
     },
     "execution_count": 10,
     "metadata": {},
     "output_type": "execute_result"
    }
   ],
   "source": [
    "second_array"
   ]
  },
  {
   "cell_type": "code",
   "execution_count": 11,
<<<<<<< HEAD
   "id": "d5e3162f",
=======
   "id": "57bdabd5",
>>>>>>> d32a2a1d69da19728446383e2d558f60aeed3469
   "metadata": {},
   "outputs": [
    {
     "data": {
      "text/plain": [
       "dtype('float64')"
      ]
     },
     "execution_count": 11,
     "metadata": {},
     "output_type": "execute_result"
    }
   ],
   "source": [
    "second_array.dtype"
   ]
  },
  {
   "cell_type": "code",
   "execution_count": 12,
<<<<<<< HEAD
   "id": "42a57a00",
=======
   "id": "0ee35310",
>>>>>>> d32a2a1d69da19728446383e2d558f60aeed3469
   "metadata": {},
   "outputs": [
    {
     "data": {
      "text/plain": [
       "[1, 'elly', 2, 'evi eller bea']"
      ]
     },
     "execution_count": 12,
     "metadata": {},
     "output_type": "execute_result"
    }
   ],
   "source": [
    "mixed_list = [1, \"elly\", 2, \"evi eller bea\"]\n",
    "mixed_list"
   ]
  },
  {
   "cell_type": "code",
   "execution_count": 13,
<<<<<<< HEAD
   "id": "a8658a9b",
=======
   "id": "bcdc0920",
>>>>>>> d32a2a1d69da19728446383e2d558f60aeed3469
   "metadata": {},
   "outputs": [
    {
     "data": {
      "text/plain": [
       "array(['1', 'elly', '2', 'evi eller bea'], dtype='<U21')"
      ]
     },
     "execution_count": 13,
     "metadata": {},
     "output_type": "execute_result"
    }
   ],
   "source": [
    "mixed_array = np.array(mixed_list)\n",
    "mixed_array"
   ]
  },
  {
   "cell_type": "code",
   "execution_count": 14,
<<<<<<< HEAD
   "id": "30fd5503",
=======
   "id": "5844f398",
>>>>>>> d32a2a1d69da19728446383e2d558f60aeed3469
   "metadata": {},
   "outputs": [
    {
     "data": {
      "text/plain": [
       "dtype('<U21')"
      ]
     },
     "execution_count": 14,
     "metadata": {},
     "output_type": "execute_result"
    }
   ],
   "source": [
    "mixed_array.dtype"
   ]
  },
  {
   "cell_type": "code",
   "execution_count": 16,
<<<<<<< HEAD
   "id": "87072411",
=======
   "id": "90519f93",
>>>>>>> d32a2a1d69da19728446383e2d558f60aeed3469
   "metadata": {},
   "outputs": [],
   "source": [
    "first_tuple = (5, 10, 15, 20, 25, 30)"
   ]
  },
  {
   "cell_type": "code",
   "execution_count": 17,
<<<<<<< HEAD
   "id": "6eab8f73",
=======
   "id": "69a72b00",
>>>>>>> d32a2a1d69da19728446383e2d558f60aeed3469
   "metadata": {},
   "outputs": [],
   "source": [
    "array_from_tuple = np.array(first_tuple)"
   ]
  },
  {
   "cell_type": "code",
   "execution_count": 19,
<<<<<<< HEAD
   "id": "ef997d95",
=======
   "id": "ad45e2a2",
>>>>>>> d32a2a1d69da19728446383e2d558f60aeed3469
   "metadata": {},
   "outputs": [
    {
     "data": {
      "text/plain": [
       "array([ 5, 10, 15, 20, 25, 30])"
      ]
     },
     "execution_count": 19,
     "metadata": {},
     "output_type": "execute_result"
    }
   ],
   "source": [
    "array_from_tuple"
   ]
  },
  {
   "cell_type": "code",
   "execution_count": 20,
<<<<<<< HEAD
   "id": "5c4822ae",
=======
   "id": "25250f62",
>>>>>>> d32a2a1d69da19728446383e2d558f60aeed3469
   "metadata": {},
   "outputs": [
    {
     "data": {
      "text/plain": [
       "dtype('int64')"
      ]
     },
     "execution_count": 20,
     "metadata": {},
     "output_type": "execute_result"
    }
   ],
   "source": [
    "array_from_tuple.dtype"
   ]
  },
  {
   "cell_type": "code",
   "execution_count": 22,
<<<<<<< HEAD
   "id": "4f80ca7b",
=======
   "id": "02b59520",
>>>>>>> d32a2a1d69da19728446383e2d558f60aeed3469
   "metadata": {},
   "outputs": [
    {
     "data": {
      "text/plain": [
       "1"
      ]
     },
     "execution_count": 22,
     "metadata": {},
     "output_type": "execute_result"
    }
   ],
   "source": [
    "array_from_tuple.ndim"
   ]
  },
  {
   "cell_type": "code",
<<<<<<< HEAD
   "execution_count": 23,
   "id": "95deae24",
   "metadata": {},
   "outputs": [
    {
     "data": {
      "text/plain": [
       "[[[0, 1, 2], [3, 4, 5]], [[6, 7, 8], [9, 10, 11]]]"
      ]
     },
     "execution_count": 23,
     "metadata": {},
     "output_type": "execute_result"
    }
   ],
   "source": [
    "multi_dim_list = [[[0,1,2],[3,4,5]], [[6,7,8],[9,10,11]]]\n",
    "multi_dim_list"
   ]
  },
  {
   "cell_type": "code",
   "execution_count": 24,
   "id": "df35e6ab",
   "metadata": {},
   "outputs": [],
   "source": [
    "arr_from_multi_dim_list = np.array(multi_dim_list)"
   ]
  },
  {
   "cell_type": "code",
   "execution_count": 25,
   "id": "ec3b9d9f",
   "metadata": {},
   "outputs": [
    {
     "data": {
      "text/plain": [
       "array([[[ 0,  1,  2],\n",
       "        [ 3,  4,  5]],\n",
       "\n",
       "       [[ 6,  7,  8],\n",
       "        [ 9, 10, 11]]])"
      ]
     },
     "execution_count": 25,
     "metadata": {},
     "output_type": "execute_result"
    }
   ],
   "source": [
    "arr_from_multi_dim_list"
   ]
  },
  {
   "cell_type": "code",
   "execution_count": 26,
   "id": "eaa9cdd9",
   "metadata": {},
   "outputs": [
    {
     "data": {
      "text/plain": [
       "3"
      ]
     },
     "execution_count": 26,
     "metadata": {},
     "output_type": "execute_result"
    }
   ],
   "source": [
    "arr_from_multi_dim_list.ndim"
   ]
  },
  {
   "cell_type": "code",
   "execution_count": 27,
   "id": "c3c6a5cc",
   "metadata": {},
   "outputs": [
    {
     "data": {
      "text/plain": [
       "dtype('int64')"
      ]
     },
     "execution_count": 27,
     "metadata": {},
     "output_type": "execute_result"
    }
   ],
   "source": [
    "arr_from_multi_dim_list.dtype"
   ]
  },
  {
   "cell_type": "code",
   "execution_count": null,
   "id": "a29bb020",
   "metadata": {},
   "outputs": [],
   "source": []
=======
   "execution_count": null,
   "id": "09a63588",
   "metadata": {},
   "outputs": [],
   "source": [
    "multi_dim_list = [[[0,1,2],[3]], [[7,8,9],[]]]"
   ]
>>>>>>> d32a2a1d69da19728446383e2d558f60aeed3469
  }
 ],
 "metadata": {
  "kernelspec": {
   "display_name": "Python 3",
   "language": "python",
   "name": "python3"
  },
  "language_info": {
   "codemirror_mode": {
    "name": "ipython",
    "version": 3
   },
   "file_extension": ".py",
   "mimetype": "text/x-python",
   "name": "python",
   "nbconvert_exporter": "python",
   "pygments_lexer": "ipython3",
   "version": "3.8.8"
  }
 },
 "nbformat": 4,
 "nbformat_minor": 5
}
