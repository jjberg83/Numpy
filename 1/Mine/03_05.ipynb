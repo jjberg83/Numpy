{
 "cells": [
  {
   "cell_type": "code",
   "execution_count": 1,
   "id": "e0c8e8ef",
   "metadata": {},
   "outputs": [],
   "source": [
    "import numpy as np"
   ]
  },
  {
   "cell_type": "code",
   "execution_count": 18,
   "id": "47249e4b",
   "metadata": {},
   "outputs": [
    {
     "name": "stdout",
     "output_type": "stream",
     "text": [
      "firstArr: [ 1  2  3  4  5  6  7  8  9 10]\n",
      "secondArr: [11 12 13 14 15 16 17 18 19 20]\n"
     ]
    }
   ],
   "source": [
    "firstArr = np.arange(1,11)\n",
    "secondArr = np.arange(11, 21)\n",
    "print(\"firstArr:\", firstArr)\n",
    "print(\"secondArr:\", secondArr)"
   ]
  },
  {
   "cell_type": "code",
   "execution_count": 4,
   "id": "d57e93a7",
   "metadata": {},
   "outputs": [
    {
     "data": {
      "text/plain": [
       "array([ 0,  1,  2,  3,  4,  5,  6,  7,  8,  9, 10, 11, 12, 13, 14, 15, 16,\n",
       "       17, 18, 19, 20])"
      ]
     },
     "execution_count": 4,
     "metadata": {},
     "output_type": "execute_result"
    }
   ],
   "source": [
    "conArr = np.concatenate((firstArr, secondArr))\n",
    "conArr"
   ]
  },
  {
   "cell_type": "code",
   "execution_count": 5,
   "id": "8c88f01a",
   "metadata": {},
   "outputs": [],
   "source": [
    "# syntaks for concatenate\n",
    "# np.concatenate(arrayene, akse (default er 0))"
   ]
  },
  {
   "cell_type": "code",
   "execution_count": 7,
   "id": "68d29478",
   "metadata": {},
   "outputs": [
    {
     "name": "stdout",
     "output_type": "stream",
     "text": [
      "[[ 1  2  3  4  5 11 12 13 14 15]\n",
      " [ 6  7  8  9 10 16 17 18 19 20]]\n"
     ]
    }
   ],
   "source": [
    "third2D = np.array([[1,2,3,4,5],[6,7,8,9,10]])\n",
    "fourth2D = np.array([[11,12,13,14,15],[16,17,18,19,20]])\n",
    "con2D = np.concatenate((third2D,fourth2D), axis=1)\n",
    "print(con2D)"
   ]
  },
  {
   "cell_type": "code",
   "execution_count": 9,
   "id": "e7e51653",
   "metadata": {},
   "outputs": [
    {
     "name": "stdout",
     "output_type": "stream",
     "text": [
      "[[ 1  2  3  4  5]\n",
      " [ 6  7  8  9 10]\n",
      " [11 12 13 14 15]\n",
      " [16 17 18 19 20]]\n"
     ]
    }
   ],
   "source": [
    "con2D = np.concatenate((third2D,fourth2D)) # default er axis = 0\n",
    "print(con2D)"
   ]
  },
  {
   "cell_type": "code",
   "execution_count": 28,
   "id": "f4830bd2",
   "metadata": {},
   "outputs": [
    {
     "name": "stdout",
     "output_type": "stream",
     "text": [
      "[[ 1  2  3  4  5  6  7  8  9 10]\n",
      " [11 12 13 14 15 16 17 18 19 20]]\n"
     ]
    }
   ],
   "source": [
    "stackArr = np.stack((firstArr, secondArr),axis=0)\n",
    "print(stackArr)"
   ]
  },
  {
   "cell_type": "code",
   "execution_count": 23,
   "id": "87e380d3",
   "metadata": {},
   "outputs": [
    {
     "name": "stdout",
     "output_type": "stream",
     "text": [
      "[ 1  2  3  4  5  6  7  8  9 10 11 12 13 14 15 16 17 18 19 20]\n"
     ]
    }
   ],
   "source": [
    "print(np.concatenate((firstArr, secondArr)))"
   ]
  },
  {
   "cell_type": "code",
   "execution_count": 25,
   "id": "cf8ddfcc",
   "metadata": {},
   "outputs": [
    {
     "name": "stdout",
     "output_type": "stream",
     "text": [
      "[ 1  2  3  4  5  6  7  8  9 10 11 12 13 14 15 16 17 18 19 20]\n"
     ]
    }
   ],
   "source": [
    "h_stack = np.hstack((firstArr,secondArr))\n",
    "print(h_stack)"
   ]
  },
  {
   "cell_type": "code",
   "execution_count": 27,
   "id": "ac266ce9",
   "metadata": {},
   "outputs": [
    {
     "name": "stdout",
     "output_type": "stream",
     "text": [
      "[[ 1  2  3  4  5  6  7  8  9 10]\n",
      " [11 12 13 14 15 16 17 18 19 20]]\n"
     ]
    }
   ],
   "source": [
    "v_stack=np.vstack((firstArr, secondArr))\n",
    "print(v_stack)"
   ]
  },
  {
   "cell_type": "code",
   "execution_count": 29,
   "id": "7942243b",
   "metadata": {},
   "outputs": [
    {
     "name": "stdout",
     "output_type": "stream",
     "text": [
      "[ 1  2  3  4  5  6  7  8  9 10 11 12]\n"
     ]
    }
   ],
   "source": [
    "enTilTolv = np.arange(1,13)\n",
    "print(enTilTolv)"
   ]
  },
  {
   "cell_type": "code",
   "execution_count": 33,
   "id": "d54c0cfd",
   "metadata": {},
   "outputs": [
    {
     "name": "stdout",
     "output_type": "stream",
     "text": [
      "[ 1  2  3  4  5  6  7  8  9 10 11 12]\n",
      "[array([1, 2, 3]), array([4, 5, 6]), array([7, 8, 9]), array([10, 11, 12])]\n",
      "[array([1, 2]), array([3, 4]), array([5, 6]), array([7, 8]), array([9]), array([10]), array([11]), array([12])]\n",
      "[4 5 6]\n"
     ]
    }
   ],
   "source": [
    "firstSplit = np.array_split(enTilTolv, 4)\n",
    "secondSplit = np.array_split(enTilTolv, 8)\n",
    "print(enTilTolv)\n",
    "print(firstSplit)\n",
    "print(secondSplit)\n",
    "print(firstSplit[1])"
   ]
  },
  {
   "cell_type": "code",
   "execution_count": 34,
   "id": "fbe41076",
   "metadata": {},
   "outputs": [
    {
     "name": "stdout",
     "output_type": "stream",
     "text": [
      "[[ 1  2  3  4  5]\n",
      " [ 6  7  8  9 10]]\n"
     ]
    }
   ],
   "source": [
    "print(third2D)"
   ]
  },
  {
   "cell_type": "code",
   "execution_count": 35,
   "id": "5f3002bb",
   "metadata": {},
   "outputs": [
    {
     "name": "stdout",
     "output_type": "stream",
     "text": [
      "[[ 1  2  3  4  5]\n",
      " [ 6  7  8  9 10]]\n"
     ]
    }
   ],
   "source": [
    "print(np.reshape(np.arange(1,11),(2,5)))"
   ]
  },
  {
   "cell_type": "code",
   "execution_count": 38,
   "id": "c14d8b61",
   "metadata": {},
   "outputs": [
    {
     "name": "stdout",
     "output_type": "stream",
     "text": [
      "[array([[1],\n",
      "       [6]]), array([[2],\n",
      "       [7]]), array([[3],\n",
      "       [8]]), array([[4],\n",
      "       [9]]), array([[ 5],\n",
      "       [10]])]\n"
     ]
    }
   ],
   "source": [
    "hs_arr = np.hsplit(third2D, 5) #får 5 todimensjonelle arrays\n",
    "print(hs_arr)"
   ]
  },
  {
   "cell_type": "code",
   "execution_count": 37,
   "id": "eccd0119",
   "metadata": {},
   "outputs": [
    {
     "name": "stdout",
     "output_type": "stream",
     "text": [
      "[[1]\n",
      " [6]]\n"
     ]
    }
   ],
   "source": [
    "print(hs_arr[0])"
   ]
  },
  {
   "cell_type": "code",
   "execution_count": 40,
   "id": "cad5db7a",
   "metadata": {},
   "outputs": [
    {
     "name": "stdout",
     "output_type": "stream",
     "text": [
      "[array([[1, 2, 3, 4, 5]]), array([[ 6,  7,  8,  9, 10]])]\n",
      "[[1 2 3 4 5]]\n"
     ]
    }
   ],
   "source": [
    "vs_arr = np.vsplit(third2D, 2)\n",
    "print(vs_arr)\n",
    "print(vs_arr[0])"
   ]
  },
  {
   "cell_type": "code",
   "execution_count": null,
   "id": "a2f3b8ae",
   "metadata": {},
   "outputs": [],
   "source": []
  }
 ],
 "metadata": {
  "kernelspec": {
   "display_name": "Python 3",
   "language": "python",
   "name": "python3"
  },
  "language_info": {
   "codemirror_mode": {
    "name": "ipython",
    "version": 3
   },
   "file_extension": ".py",
   "mimetype": "text/x-python",
   "name": "python",
   "nbconvert_exporter": "python",
   "pygments_lexer": "ipython3",
   "version": "3.8.8"
  }
 },
 "nbformat": 4,
 "nbformat_minor": 5
}
