{
 "cells": [
  {
   "cell_type": "code",
   "execution_count": 1,
   "id": "6180013b",
   "metadata": {},
   "outputs": [],
   "source": [
    "import numpy as np"
   ]
  },
  {
   "cell_type": "code",
   "execution_count": 2,
   "id": "56a1db1b",
   "metadata": {},
   "outputs": [
    {
     "data": {
      "text/plain": [
       "array([[ 0,  1,  2,  3],\n",
       "       [ 4,  5,  6,  7],\n",
       "       [ 8,  9, 10, 11]])"
      ]
     },
     "execution_count": 2,
     "metadata": {},
     "output_type": "execute_result"
    }
   ],
   "source": [
    "twoDimArr = np.reshape(np.arange(12), (3,4))\n",
    "twoDimArr"
   ]
  },
  {
   "cell_type": "code",
   "execution_count": 4,
   "id": "b3fa12a4",
   "metadata": {},
   "outputs": [
    {
     "name": "stdout",
     "output_type": "stream",
     "text": [
      "5\n",
      "5\n",
      "[4 5 6 7]\n"
     ]
    }
   ],
   "source": [
    "print(twoDimArr[1,1])\n",
    "print(twoDimArr[1][1])\n",
    "print(twoDimArr[1])"
   ]
  },
  {
   "cell_type": "code",
   "execution_count": 5,
   "id": "86ed56da",
   "metadata": {},
   "outputs": [
    {
     "data": {
      "text/plain": [
       "array([[[ 0,  1,  2,  3,  4],\n",
       "        [ 5,  6,  7,  8,  9],\n",
       "        [10, 11, 12, 13, 14],\n",
       "        [15, 16, 17, 18, 19]],\n",
       "\n",
       "       [[20, 21, 22, 23, 24],\n",
       "        [25, 26, 27, 28, 29],\n",
       "        [30, 31, 32, 33, 34],\n",
       "        [35, 36, 37, 38, 39]],\n",
       "\n",
       "       [[40, 41, 42, 43, 44],\n",
       "        [45, 46, 47, 48, 49],\n",
       "        [50, 51, 52, 53, 54],\n",
       "        [55, 56, 57, 58, 59]]])"
      ]
     },
     "execution_count": 5,
     "metadata": {},
     "output_type": "execute_result"
    }
   ],
   "source": [
    "threeDimArr = np.reshape(np.arange(3*4*5), (3,4,5))\n",
    "threeDimArr"
   ]
  },
  {
   "cell_type": "code",
   "execution_count": 7,
   "id": "ed475b8f",
   "metadata": {},
   "outputs": [
    {
     "data": {
      "text/plain": [
       "13"
      ]
     },
     "execution_count": 7,
     "metadata": {},
     "output_type": "execute_result"
    }
   ],
   "source": [
    "threeDimArr[0,2,3]"
   ]
  },
  {
   "cell_type": "code",
   "execution_count": 8,
   "id": "db50af06",
   "metadata": {},
   "outputs": [
    {
     "data": {
      "text/plain": [
       "59"
      ]
     },
     "execution_count": 8,
     "metadata": {},
     "output_type": "execute_result"
    }
   ],
   "source": [
    "threeDimArr[2,-1,-1]"
   ]
  },
  {
   "cell_type": "code",
   "execution_count": 19,
   "id": "86744e65",
   "metadata": {},
   "outputs": [
    {
     "name": "stdout",
     "output_type": "stream",
     "text": [
      "[2 3 4]\n",
      "[0 1 2 3 4]\n",
      "[4 5 6 7 8 9]\n",
      "7\n",
      "[7 8 9]\n",
      "[7 8 9]\n",
      "[0 2 4 6 8]\n",
      "[1 3 5 7 9]\n"
     ]
    }
   ],
   "source": [
    "oneDimArr = np.arange(10)\n",
    "print(oneDimArr[2:5])\n",
    "print(oneDimArr[:5])\n",
    "print(oneDimArr[4:])\n",
    "print(oneDimArr[-3])\n",
    "print(oneDimArr[-3:])\n",
    "print(oneDimArr[7:])\n",
    "print(oneDimArr[::2])\n",
    "print(oneDimArr[1::2])"
   ]
  },
  {
   "cell_type": "code",
   "execution_count": 15,
   "id": "c368d38e",
   "metadata": {},
   "outputs": [
    {
     "data": {
      "text/plain": [
       "array([[5, 6, 7, 8, 9]])"
      ]
     },
     "execution_count": 15,
     "metadata": {},
     "output_type": "execute_result"
    }
   ],
   "source": [
    "threeDimArr[0,1:2]"
   ]
  },
  {
   "cell_type": "code",
   "execution_count": 17,
   "id": "a7793bc7",
   "metadata": {},
   "outputs": [
    {
     "data": {
      "text/plain": [
       "array([5, 7, 9])"
      ]
     },
     "execution_count": 17,
     "metadata": {},
     "output_type": "execute_result"
    }
   ],
   "source": [
    "threeDimArr[0,1][::2]"
   ]
  },
  {
   "cell_type": "code",
   "execution_count": 22,
   "id": "e2858594",
   "metadata": {},
   "outputs": [
    {
     "name": "stdout",
     "output_type": "stream",
     "text": [
      "[[ 0  1  2  3]\n",
      " [ 4  5  6  7]\n",
      " [ 8  9 10 11]]\n"
     ]
    }
   ],
   "source": [
    "print(twoDimArr)"
   ]
  },
  {
   "cell_type": "code",
   "execution_count": 25,
   "id": "f23cb9c2",
   "metadata": {},
   "outputs": [
    {
     "name": "stdout",
     "output_type": "stream",
     "text": [
      "[[ 5  6  7]\n",
      " [ 9 10 11]]\n"
     ]
    }
   ],
   "source": [
    "print(twoDimArr[1:,1:])"
   ]
  },
  {
   "cell_type": "code",
   "execution_count": 26,
   "id": "bc3b1d94",
   "metadata": {},
   "outputs": [
    {
     "name": "stdout",
     "output_type": "stream",
     "text": [
      "[[ 9 10 11]]\n"
     ]
    }
   ],
   "source": [
    "print(twoDimArr[2:,1:])"
   ]
  },
  {
   "cell_type": "code",
   "execution_count": 27,
   "id": "69f86713",
   "metadata": {},
   "outputs": [
    {
     "name": "stdout",
     "output_type": "stream",
     "text": [
      "[[ 2  3]\n",
      " [ 6  7]\n",
      " [10 11]]\n"
     ]
    }
   ],
   "source": [
    "print(twoDimArr[:,2:])"
   ]
  },
  {
   "cell_type": "code",
   "execution_count": 28,
   "id": "dba071a2",
   "metadata": {},
   "outputs": [
    {
     "data": {
      "text/plain": [
       "array([[[ 0,  1,  2,  3,  4],\n",
       "        [ 5,  6,  7,  8,  9],\n",
       "        [10, 11, 12, 13, 14],\n",
       "        [15, 16, 17, 18, 19]],\n",
       "\n",
       "       [[20, 21, 22, 23, 24],\n",
       "        [25, 26, 27, 28, 29],\n",
       "        [30, 31, 32, 33, 34],\n",
       "        [35, 36, 37, 38, 39]],\n",
       "\n",
       "       [[40, 41, 42, 43, 44],\n",
       "        [45, 46, 47, 48, 49],\n",
       "        [50, 51, 52, 53, 54],\n",
       "        [55, 56, 57, 58, 59]]])"
      ]
     },
     "execution_count": 28,
     "metadata": {},
     "output_type": "execute_result"
    }
   ],
   "source": [
    "threeDimArr"
   ]
  },
  {
   "cell_type": "code",
   "execution_count": 29,
   "id": "efd5dcf3",
   "metadata": {},
   "outputs": [
    {
     "name": "stdout",
     "output_type": "stream",
     "text": [
      "[5 6 7 8 9]\n"
     ]
    }
   ],
   "source": [
    "print(threeDimArr[0,1])"
   ]
  },
  {
   "cell_type": "code",
   "execution_count": 31,
   "id": "8856b4a0",
   "metadata": {},
   "outputs": [
    {
     "name": "stdout",
     "output_type": "stream",
     "text": [
      "[[ 5  6  7  8  9]\n",
      " [25 26 27 28 29]\n",
      " [45 46 47 48 49]]\n"
     ]
    }
   ],
   "source": [
    "print(threeDimArr[0:,1])"
   ]
  },
  {
   "cell_type": "code",
   "execution_count": 32,
   "id": "0b7a5aeb",
   "metadata": {},
   "outputs": [
    {
     "name": "stdout",
     "output_type": "stream",
     "text": [
      "[[[ 5  6  7  8  9]\n",
      "  [10 11 12 13 14]\n",
      "  [15 16 17 18 19]]\n",
      "\n",
      " [[25 26 27 28 29]\n",
      "  [30 31 32 33 34]\n",
      "  [35 36 37 38 39]]\n",
      "\n",
      " [[45 46 47 48 49]\n",
      "  [50 51 52 53 54]\n",
      "  [55 56 57 58 59]]]\n"
     ]
    }
   ],
   "source": [
    "print(threeDimArr[0:,1:])"
   ]
  },
  {
   "cell_type": "code",
   "execution_count": 33,
   "id": "5eded223",
   "metadata": {},
   "outputs": [
    {
     "name": "stdout",
     "output_type": "stream",
     "text": [
      "[[[ 0  1  2  3  4]\n",
      "  [ 5  6  7  8  9]\n",
      "  [10 11 12 13 14]\n",
      "  [15 16 17 18 19]]\n",
      "\n",
      " [[20 21 22 23 24]\n",
      "  [25 26 27 28 29]\n",
      "  [30 31 32 33 34]\n",
      "  [35 36 37 38 39]]\n",
      "\n",
      " [[40 41 42 43 44]\n",
      "  [45 46 47 48 49]\n",
      "  [50 51 52 53 54]\n",
      "  [55 56 57 58 59]]]\n"
     ]
    }
   ],
   "source": [
    "print(threeDimArr[::])"
   ]
  },
  {
   "cell_type": "code",
   "execution_count": 34,
   "id": "c6925aaf",
   "metadata": {},
   "outputs": [
    {
     "name": "stdout",
     "output_type": "stream",
     "text": [
      "[[[ 0  1  2  3  4]\n",
      "  [ 5  6  7  8  9]\n",
      "  [10 11 12 13 14]\n",
      "  [15 16 17 18 19]]]\n"
     ]
    }
   ],
   "source": [
    "print(threeDimArr[0:1:])"
   ]
  },
  {
   "cell_type": "code",
   "execution_count": 37,
   "id": "abe74b14",
   "metadata": {},
   "outputs": [
    {
     "name": "stdout",
     "output_type": "stream",
     "text": [
      "[2 3 4 5]\n",
      "[1 2 3]\n",
      "[1 3 5]\n"
     ]
    }
   ],
   "source": [
    "a = np.array([1,2,3,4,5])\n",
    "print(a[1:])\n",
    "print(a[:3])\n",
    "print(a[::2])"
   ]
  },
  {
   "cell_type": "code",
   "execution_count": 39,
   "id": "49c806c5",
   "metadata": {},
   "outputs": [
    {
     "name": "stdout",
     "output_type": "stream",
     "text": [
      "[[10 11 12 13 14]\n",
      " [15 16 17 18 19]\n",
      " [20 21 22 23 24]\n",
      " [25 26 27 28 29]]\n"
     ]
    }
   ],
   "source": [
    "min2d = np.array([[10,11,12,13,14],\n",
    "                  [15,16,17,18,19],\n",
    "                  [20,21,22,23,24],\n",
    "                  [25,26,27,28,29]\n",
    "                ])\n",
    "print(min2d)"
   ]
  },
  {
   "cell_type": "code",
   "execution_count": 40,
   "id": "152f86ea",
   "metadata": {},
   "outputs": [
    {
     "name": "stdout",
     "output_type": "stream",
     "text": [
      "[[16 17]\n",
      " [21 22]]\n"
     ]
    }
   ],
   "source": [
    "print(min2d[1:3, 1:3])"
   ]
  },
  {
   "cell_type": "code",
   "execution_count": 43,
   "id": "d8bb0e6a",
   "metadata": {},
   "outputs": [
    {
     "name": "stdout",
     "output_type": "stream",
     "text": [
      "[[[11 12 13]\n",
      "  [16 17 18]]\n",
      "\n",
      " [[31 32 33]\n",
      "  [36 37 38]]]\n"
     ]
    }
   ],
   "source": [
    "print(threeDimArr[:2,2:,1:4])"
   ]
  },
  {
   "cell_type": "code",
   "execution_count": 44,
   "id": "70fa8138",
   "metadata": {},
   "outputs": [
    {
     "name": "stdout",
     "output_type": "stream",
     "text": [
      "[[[10 11 12]\n",
      "  [13 14 15]\n",
      "  [16 17 18]]\n",
      "\n",
      " [[20 21 22]\n",
      "  [23 24 25]\n",
      "  [26 27 28]]\n",
      "\n",
      " [[30 31 32]\n",
      "  [33 34 35]\n",
      "  [36 37 38]]]\n"
     ]
    }
   ],
   "source": [
    "monster = np.array([[[10,11,12],[13,14,15], [16,17,18]],\n",
    "                    [[20,21,22],[23,24,25], [26,27,28]],\n",
    "                    [[30,31,32],[33,34,35],[36,37,38]]])\n",
    "print(monster)"
   ]
  },
  {
   "cell_type": "code",
   "execution_count": 45,
   "id": "84b31abb",
   "metadata": {},
   "outputs": [
    {
     "name": "stdout",
     "output_type": "stream",
     "text": [
      "[[[13 14]\n",
      "  [16 17]]\n",
      "\n",
      " [[23 24]\n",
      "  [26 27]]]\n"
     ]
    }
   ],
   "source": [
    "print(monster[0:2,1:3,0:2])"
   ]
  },
  {
   "cell_type": "code",
   "execution_count": 46,
   "id": "21dfc992",
   "metadata": {},
   "outputs": [
    {
     "name": "stdout",
     "output_type": "stream",
     "text": [
      "[[[13 14]\n",
      "  [16 17]]\n",
      "\n",
      " [[23 24]\n",
      "  [26 27]]]\n"
     ]
    }
   ],
   "source": [
    "print(monster[:2,1:3,0:2])"
   ]
  },
  {
   "cell_type": "code",
   "execution_count": 47,
   "id": "1b842084",
   "metadata": {},
   "outputs": [
    {
     "name": "stdout",
     "output_type": "stream",
     "text": [
      "[[[13 14]\n",
      "  [16 17]]\n",
      "\n",
      " [[23 24]\n",
      "  [26 27]]]\n"
     ]
    }
   ],
   "source": [
    "print(monster[:2,1:,:2])"
   ]
  },
  {
   "cell_type": "code",
   "execution_count": 48,
   "id": "32f7738b",
   "metadata": {},
   "outputs": [
    {
     "data": {
      "text/plain": [
       "array([[ 0,  1,  2,  3],\n",
       "       [ 4,  5,  6,  7],\n",
       "       [ 8,  9, 10, 11]])"
      ]
     },
     "execution_count": 48,
     "metadata": {},
     "output_type": "execute_result"
    }
   ],
   "source": [
    "twoDimArr"
   ]
  },
  {
   "cell_type": "code",
   "execution_count": 49,
   "id": "589a698e",
   "metadata": {},
   "outputs": [
    {
     "name": "stdout",
     "output_type": "stream",
     "text": [
      "[[ 5  6  7]\n",
      " [ 9 10 11]]\n"
     ]
    }
   ],
   "source": [
    "print(twoDimArr[1:,1:])"
   ]
  },
  {
   "cell_type": "code",
   "execution_count": 50,
   "id": "340014ad",
   "metadata": {},
   "outputs": [
    {
     "name": "stdout",
     "output_type": "stream",
     "text": [
      "[4 5 6 7]\n"
     ]
    }
   ],
   "source": [
    "print(twoDimArr[1,:])"
   ]
  },
  {
   "cell_type": "code",
   "execution_count": 51,
   "id": "9c0b762e",
   "metadata": {},
   "outputs": [
    {
     "data": {
      "text/plain": [
       "array([ 2,  6, 10])"
      ]
     },
     "execution_count": 51,
     "metadata": {},
     "output_type": "execute_result"
    }
   ],
   "source": [
    "twoDimArr[:,2]"
   ]
  },
  {
   "cell_type": "code",
   "execution_count": null,
   "id": "6fdb6492",
   "metadata": {},
   "outputs": [],
   "source": [
    "twoDimArr[:,]"
   ]
  }
 ],
 "metadata": {
  "kernelspec": {
   "display_name": "Python 3",
   "language": "python",
   "name": "python3"
  },
  "language_info": {
   "codemirror_mode": {
    "name": "ipython",
    "version": 3
   },
   "file_extension": ".py",
   "mimetype": "text/x-python",
   "name": "python",
   "nbconvert_exporter": "python",
   "pygments_lexer": "ipython3",
   "version": "3.8.8"
  }
 },
 "nbformat": 4,
 "nbformat_minor": 5
}
