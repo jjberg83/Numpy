{
 "cells": [
  {
   "cell_type": "code",
   "execution_count": 1,
   "id": "b0400827",
   "metadata": {},
   "outputs": [],
   "source": [
    "import numpy as np"
   ]
  },
  {
   "cell_type": "code",
   "execution_count": 2,
   "id": "f739b41c",
   "metadata": {},
   "outputs": [
    {
     "data": {
      "text/plain": [
       "array([[ 0,  1,  2,  3],\n",
       "       [ 4,  5,  6,  7],\n",
       "       [ 8,  9, 10, 11]])"
      ]
     },
     "execution_count": 2,
     "metadata": {},
     "output_type": "execute_result"
    }
   ],
   "source": [
    "twoDimArr = np.reshape(np.arange(12), (3,4))\n",
    "twoDimArr"
   ]
  },
  {
   "cell_type": "code",
   "execution_count": 4,
   "id": "c3f95f29",
   "metadata": {},
   "outputs": [
    {
     "name": "stdout",
     "output_type": "stream",
     "text": [
      "5\n",
      "5\n",
      "[4 5 6 7]\n"
     ]
    }
   ],
   "source": [
    "print(twoDimArr[1,1])\n",
    "print(twoDimArr[1][1])\n",
    "print(twoDimArr[1])"
   ]
  },
  {
   "cell_type": "code",
   "execution_count": 5,
   "id": "b4524c24",
   "metadata": {},
   "outputs": [
    {
     "data": {
      "text/plain": [
       "array([[[ 0,  1,  2,  3,  4],\n",
       "        [ 5,  6,  7,  8,  9],\n",
       "        [10, 11, 12, 13, 14],\n",
       "        [15, 16, 17, 18, 19]],\n",
       "\n",
       "       [[20, 21, 22, 23, 24],\n",
       "        [25, 26, 27, 28, 29],\n",
       "        [30, 31, 32, 33, 34],\n",
       "        [35, 36, 37, 38, 39]],\n",
       "\n",
       "       [[40, 41, 42, 43, 44],\n",
       "        [45, 46, 47, 48, 49],\n",
       "        [50, 51, 52, 53, 54],\n",
       "        [55, 56, 57, 58, 59]]])"
      ]
     },
     "execution_count": 5,
     "metadata": {},
     "output_type": "execute_result"
    }
   ],
   "source": [
    "threeDimArr = np.reshape(np.arange(3*4*5), (3,4,5))\n",
    "threeDimArr"
   ]
  },
  {
   "cell_type": "code",
   "execution_count": 7,
   "id": "fa95afbb",
   "metadata": {},
   "outputs": [
    {
     "data": {
      "text/plain": [
       "13"
      ]
     },
     "execution_count": 7,
     "metadata": {},
     "output_type": "execute_result"
    }
   ],
   "source": [
    "threeDimArr[0,2,3]"
   ]
  },
  {
   "cell_type": "code",
   "execution_count": 8,
   "id": "7ac178ed",
   "metadata": {},
   "outputs": [
    {
     "data": {
      "text/plain": [
       "59"
      ]
     },
     "execution_count": 8,
     "metadata": {},
     "output_type": "execute_result"
    }
   ],
   "source": [
    "threeDimArr[2,-1,-1]"
   ]
  },
  {
   "cell_type": "code",
   "execution_count": 19,
   "id": "eec5ad9d",
   "metadata": {},
   "outputs": [
    {
     "name": "stdout",
     "output_type": "stream",
     "text": [
      "[2 3 4]\n",
      "[0 1 2 3 4]\n",
      "[4 5 6 7 8 9]\n",
      "7\n",
      "[7 8 9]\n",
      "[7 8 9]\n",
      "[0 2 4 6 8]\n",
      "[1 3 5 7 9]\n"
     ]
    }
   ],
   "source": [
    "oneDimArr = np.arange(10)\n",
    "print(oneDimArr[2:5])\n",
    "print(oneDimArr[:5])\n",
    "print(oneDimArr[4:])\n",
    "print(oneDimArr[-3])\n",
    "print(oneDimArr[-3:])\n",
    "print(oneDimArr[7:])\n",
    "print(oneDimArr[::2])\n",
    "print(oneDimArr[1::2])"
   ]
  },
  {
   "cell_type": "code",
   "execution_count": 15,
   "id": "3fd1aae6",
   "metadata": {},
   "outputs": [
    {
     "data": {
      "text/plain": [
       "array([[5, 6, 7, 8, 9]])"
      ]
     },
     "execution_count": 15,
     "metadata": {},
     "output_type": "execute_result"
    }
   ],
   "source": [
    "threeDimArr[0,1:2]"
   ]
  },
  {
   "cell_type": "code",
   "execution_count": 17,
   "id": "c3e22aad",
   "metadata": {},
   "outputs": [
    {
     "data": {
      "text/plain": [
       "array([5, 7, 9])"
      ]
     },
     "execution_count": 17,
     "metadata": {},
     "output_type": "execute_result"
    }
   ],
   "source": [
    "threeDimArr[0,1][::2]"
   ]
  },
  {
   "cell_type": "code",
   "execution_count": 22,
   "id": "be7dabfc",
   "metadata": {},
   "outputs": [
    {
     "name": "stdout",
     "output_type": "stream",
     "text": [
      "[[ 0  1  2  3]\n",
      " [ 4  5  6  7]\n",
      " [ 8  9 10 11]]\n"
     ]
    }
   ],
   "source": [
    "print(twoDimArr)"
   ]
  },
  {
   "cell_type": "code",
   "execution_count": 25,
   "id": "e9703346",
   "metadata": {},
   "outputs": [
    {
     "name": "stdout",
     "output_type": "stream",
     "text": [
      "[[ 5  6  7]\n",
      " [ 9 10 11]]\n"
     ]
    }
   ],
   "source": [
    "print(twoDimArr[1:,1:])"
   ]
  },
  {
   "cell_type": "code",
   "execution_count": 26,
   "id": "ecfb02ad",
   "metadata": {},
   "outputs": [
    {
     "name": "stdout",
     "output_type": "stream",
     "text": [
      "[[ 9 10 11]]\n"
     ]
    }
   ],
   "source": [
    "print(twoDimArr[2:,1:])"
   ]
  },
  {
   "cell_type": "code",
   "execution_count": 27,
   "id": "f770b2a8",
   "metadata": {},
   "outputs": [
    {
     "name": "stdout",
     "output_type": "stream",
     "text": [
      "[[ 2  3]\n",
      " [ 6  7]\n",
      " [10 11]]\n"
     ]
    }
   ],
   "source": [
    "print(twoDimArr[:,2:])"
   ]
  },
  {
   "cell_type": "code",
   "execution_count": 28,
   "id": "56107aad",
   "metadata": {},
   "outputs": [
    {
     "data": {
      "text/plain": [
       "array([[[ 0,  1,  2,  3,  4],\n",
       "        [ 5,  6,  7,  8,  9],\n",
       "        [10, 11, 12, 13, 14],\n",
       "        [15, 16, 17, 18, 19]],\n",
       "\n",
       "       [[20, 21, 22, 23, 24],\n",
       "        [25, 26, 27, 28, 29],\n",
       "        [30, 31, 32, 33, 34],\n",
       "        [35, 36, 37, 38, 39]],\n",
       "\n",
       "       [[40, 41, 42, 43, 44],\n",
       "        [45, 46, 47, 48, 49],\n",
       "        [50, 51, 52, 53, 54],\n",
       "        [55, 56, 57, 58, 59]]])"
      ]
     },
     "execution_count": 28,
     "metadata": {},
     "output_type": "execute_result"
    }
   ],
   "source": [
    "threeDimArr"
   ]
  },
  {
   "cell_type": "code",
   "execution_count": 29,
   "id": "34552033",
   "metadata": {},
   "outputs": [
    {
     "name": "stdout",
     "output_type": "stream",
     "text": [
      "[5 6 7 8 9]\n"
     ]
    }
   ],
   "source": [
    "print(threeDimArr[0,1])"
   ]
  },
  {
   "cell_type": "code",
   "execution_count": 31,
   "id": "dcb9cc4d",
   "metadata": {},
   "outputs": [
    {
     "name": "stdout",
     "output_type": "stream",
     "text": [
      "[[ 5  6  7  8  9]\n",
      " [25 26 27 28 29]\n",
      " [45 46 47 48 49]]\n"
     ]
    }
   ],
   "source": [
    "print(threeDimArr[0:,1])"
   ]
  },
  {
   "cell_type": "code",
   "execution_count": 32,
   "id": "9fc5079b",
   "metadata": {},
   "outputs": [
    {
     "name": "stdout",
     "output_type": "stream",
     "text": [
      "[[[ 5  6  7  8  9]\n",
      "  [10 11 12 13 14]\n",
      "  [15 16 17 18 19]]\n",
      "\n",
      " [[25 26 27 28 29]\n",
      "  [30 31 32 33 34]\n",
      "  [35 36 37 38 39]]\n",
      "\n",
      " [[45 46 47 48 49]\n",
      "  [50 51 52 53 54]\n",
      "  [55 56 57 58 59]]]\n"
     ]
    }
   ],
   "source": [
    "print(threeDimArr[0:,1:])"
   ]
  },
  {
   "cell_type": "code",
   "execution_count": 33,
   "id": "9c918a83",
   "metadata": {},
   "outputs": [
    {
     "name": "stdout",
     "output_type": "stream",
     "text": [
      "[[[ 0  1  2  3  4]\n",
      "  [ 5  6  7  8  9]\n",
      "  [10 11 12 13 14]\n",
      "  [15 16 17 18 19]]\n",
      "\n",
      " [[20 21 22 23 24]\n",
      "  [25 26 27 28 29]\n",
      "  [30 31 32 33 34]\n",
      "  [35 36 37 38 39]]\n",
      "\n",
      " [[40 41 42 43 44]\n",
      "  [45 46 47 48 49]\n",
      "  [50 51 52 53 54]\n",
      "  [55 56 57 58 59]]]\n"
     ]
    }
   ],
   "source": [
    "print(threeDimArr[::])"
   ]
  },
  {
   "cell_type": "code",
   "execution_count": 34,
   "id": "9d07df97",
   "metadata": {},
   "outputs": [
    {
     "name": "stdout",
     "output_type": "stream",
     "text": [
      "[[[ 0  1  2  3  4]\n",
      "  [ 5  6  7  8  9]\n",
      "  [10 11 12 13 14]\n",
      "  [15 16 17 18 19]]]\n"
     ]
    }
   ],
   "source": [
    "print(threeDimArr[0:1:])"
   ]
  },
  {
   "cell_type": "code",
   "execution_count": 37,
   "id": "0588623d",
   "metadata": {},
   "outputs": [
    {
     "name": "stdout",
     "output_type": "stream",
     "text": [
      "[2 3 4 5]\n",
      "[1 2 3]\n",
      "[1 3 5]\n"
     ]
    }
   ],
   "source": [
    "a = np.array([1,2,3,4,5])\n",
    "print(a[1:])\n",
    "print(a[:3])\n",
    "print(a[::2])"
   ]
  },
  {
   "cell_type": "code",
   "execution_count": 39,
   "id": "6ff50f86",
   "metadata": {},
   "outputs": [
    {
     "name": "stdout",
     "output_type": "stream",
     "text": [
      "[[10 11 12 13 14]\n",
      " [15 16 17 18 19]\n",
      " [20 21 22 23 24]\n",
      " [25 26 27 28 29]]\n"
     ]
    }
   ],
   "source": [
    "min2d = np.array([[10,11,12,13,14],\n",
    "                  [15,16,17,18,19],\n",
    "                  [20,21,22,23,24],\n",
    "                  [25,26,27,28,29]\n",
    "                ])\n",
    "print(min2d)"
   ]
  },
  {
   "cell_type": "code",
   "execution_count": 40,
   "id": "4b19dbda",
   "metadata": {},
   "outputs": [
    {
     "name": "stdout",
     "output_type": "stream",
     "text": [
      "[[16 17]\n",
      " [21 22]]\n"
     ]
    }
   ],
   "source": [
    "print(min2d[1:3, 1:3])"
   ]
  },
  {
   "cell_type": "code",
   "execution_count": 43,
   "id": "0f355e28",
   "metadata": {},
   "outputs": [
    {
     "name": "stdout",
     "output_type": "stream",
     "text": [
      "[[[11 12 13]\n",
      "  [16 17 18]]\n",
      "\n",
      " [[31 32 33]\n",
      "  [36 37 38]]]\n"
     ]
    }
   ],
   "source": [
    "print(threeDimArr[:2,2:,1:4])"
   ]
  },
  {
   "cell_type": "code",
   "execution_count": 44,
   "id": "80580019",
   "metadata": {},
   "outputs": [
    {
     "name": "stdout",
     "output_type": "stream",
     "text": [
      "[[[10 11 12]\n",
      "  [13 14 15]\n",
      "  [16 17 18]]\n",
      "\n",
      " [[20 21 22]\n",
      "  [23 24 25]\n",
      "  [26 27 28]]\n",
      "\n",
      " [[30 31 32]\n",
      "  [33 34 35]\n",
      "  [36 37 38]]]\n"
     ]
    }
   ],
   "source": [
    "monster = np.array([[[10,11,12],[13,14,15], [16,17,18]],\n",
    "                    [[20,21,22],[23,24,25], [26,27,28]],\n",
    "                    [[30,31,32],[33,34,35],[36,37,38]]])\n",
    "print(monster)"
   ]
  },
  {
   "cell_type": "code",
   "execution_count": 45,
   "id": "d68962d3",
   "metadata": {},
   "outputs": [
    {
     "name": "stdout",
     "output_type": "stream",
     "text": [
      "[[[13 14]\n",
      "  [16 17]]\n",
      "\n",
      " [[23 24]\n",
      "  [26 27]]]\n"
     ]
    }
   ],
   "source": [
    "print(monster[0:2,1:3,0:2])"
   ]
  },
  {
   "cell_type": "code",
   "execution_count": 46,
   "id": "70a85732",
   "metadata": {},
   "outputs": [
    {
     "name": "stdout",
     "output_type": "stream",
     "text": [
      "[[[13 14]\n",
      "  [16 17]]\n",
      "\n",
      " [[23 24]\n",
      "  [26 27]]]\n"
     ]
    }
   ],
   "source": [
    "print(monster[:2,1:3,0:2])"
   ]
  },
  {
   "cell_type": "code",
   "execution_count": 47,
   "id": "73e93a84",
   "metadata": {},
   "outputs": [
    {
     "name": "stdout",
     "output_type": "stream",
     "text": [
      "[[[13 14]\n",
      "  [16 17]]\n",
      "\n",
      " [[23 24]\n",
      "  [26 27]]]\n"
     ]
    }
   ],
   "source": [
    "print(monster[:2,1:,:2])"
   ]
  },
  {
   "cell_type": "code",
   "execution_count": 48,
   "id": "d29f4c0a",
   "metadata": {},
   "outputs": [
    {
     "data": {
      "text/plain": [
       "array([[ 0,  1,  2,  3],\n",
       "       [ 4,  5,  6,  7],\n",
       "       [ 8,  9, 10, 11]])"
      ]
     },
     "execution_count": 48,
     "metadata": {},
     "output_type": "execute_result"
    }
   ],
   "source": [
    "twoDimArr"
   ]
  },
  {
   "cell_type": "code",
   "execution_count": 49,
   "id": "5d5cc08d",
   "metadata": {},
   "outputs": [
    {
     "name": "stdout",
     "output_type": "stream",
     "text": [
      "[[ 5  6  7]\n",
      " [ 9 10 11]]\n"
     ]
    }
   ],
   "source": [
    "print(twoDimArr[1:,1:])"
   ]
  },
  {
   "cell_type": "code",
   "execution_count": 50,
   "id": "61c16e7a",
   "metadata": {},
   "outputs": [
    {
     "name": "stdout",
     "output_type": "stream",
     "text": [
      "[4 5 6 7]\n"
     ]
    }
   ],
   "source": [
    "print(twoDimArr[1,:])"
   ]
  },
  {
   "cell_type": "code",
   "execution_count": 51,
   "id": "75d048c1",
   "metadata": {},
   "outputs": [
    {
     "data": {
      "text/plain": [
       "array([ 2,  6, 10])"
      ]
     },
     "execution_count": 51,
     "metadata": {},
     "output_type": "execute_result"
    }
   ],
   "source": [
    "twoDimArr[:,2]"
   ]
  }
 ],
 "metadata": {
  "kernelspec": {
   "display_name": "Python 3",
   "language": "python",
   "name": "python3"
  },
  "language_info": {
   "codemirror_mode": {
    "name": "ipython",
    "version": 3
   },
   "file_extension": ".py",
   "mimetype": "text/x-python",
   "name": "python",
   "nbconvert_exporter": "python",
   "pygments_lexer": "ipython3",
   "version": "3.8.8"
  }
 },
 "nbformat": 4,
 "nbformat_minor": 5
}
